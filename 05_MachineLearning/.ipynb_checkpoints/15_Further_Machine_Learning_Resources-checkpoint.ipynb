{
 "cells": [
  {
   "cell_type": "markdown",
   "metadata": {},
   "source": [
    "# Further Machine Learning Resources"
   ]
  },
  {
   "cell_type": "markdown",
   "metadata": {},
   "source": [
    "This chapter has been a quick tour of machine learning in python, primarily using the tools within the Scikit-Learn library. As long as the chapter is, it is still too short to cover many interating and important algorithms, approaches, and discussions. Here I want to suggest some resources for those who would like to learn more about machine learning."
   ]
  },
  {
   "cell_type": "markdown",
   "metadata": {},
   "source": [
    "## Machine Learning in Python"
   ]
  },
  {
   "cell_type": "markdown",
   "metadata": {},
   "source": [
    "To learn more about machine learning in Python, I'd suggest some of the following resources:"
   ]
  },
  {
   "cell_type": "markdown",
   "metadata": {},
   "source": [
    "#### The Scikit-Learn website (http://scikit-learn.org)\n",
    "\n",
    "The Scikit-Learn website has an impressive breadth of documentation and examples covering some of the models discussed here, and much, much, much more. If you want a brief survey of the most important and often used machine learning algorithms, this website is a good place to start."
   ]
  },
  {
   "cell_type": "markdown",
   "metadata": {},
   "source": [
    "#### SciPy, PyCon, and PyData tutorial videos\n",
    "\n",
    "Scikit-Learn and other machine learning topics are perennial favorites in the tutorial tracks of many Python-focused conferences series, in particular the PyCon, SciPy, and PyData conferences. You can find the most recent ones via a simple web search."
   ]
  },
  {
   "cell_type": "markdown",
   "metadata": {},
   "source": [
    "#### Introduction to Machine Learning with Python (http://bit.ly/intro-machine-learning-python)\n",
    "\n",
    "Written by Andreas C. Mueller and Sarah Guido, this book includes a fuler treatment of the topics in this chapter. If you're interested in reviewing the fundamentals of machine learning and pushing the Scikit-Learn toolkit to its limits, this is a great resource, written by one of the most prolific developers on the Scikit-Learn team."
   ]
  },
  {
   "cell_type": "markdown",
   "metadata": {},
   "source": [
    "#### Python Machine Learning (http://bit.ly/2eLDR7c)\n",
    "\n",
    "Sebastian Raschka's book focuses less on Scikit-Learn itself, and more on the breadth of machine learning tools available in Python. In particular, there is some very useful discussion on how to sclae Python-based machine learning approaches to large and complex datasets."
   ]
  },
  {
   "cell_type": "markdown",
   "metadata": {},
   "source": [
    "## General Machine Learning"
   ]
  },
  {
   "cell_type": "markdown",
   "metadata": {},
   "source": [
    "Of course, machine learning is much broader than just the Pyhton world. There are many good resources to take your knowledge further, and here I highlight a few that I have found useful."
   ]
  },
  {
   "cell_type": "markdown",
   "metadata": {},
   "source": [
    "#### Machine Learning (http://www.cousera.org/learn/machinne-learning)\n",
    "\n",
    "Taught by Andrew Ng (Cousera), this is a very clear taught, free online course covering the basics of machine learning from an algorithmic perspective. I assumes undergraduate-level understanding of mathematics and programming, and steps through detailed considerations of some of the most important machine learning algorithms. Homework assignments, which are algorithmically graded, have you actually implement some of these models yourself."
   ]
  },
  {
   "cell_type": "markdown",
   "metadata": {},
   "source": [
    "#### Pattern Recognition and Machine Learning (http://www.springer.com/us/book/9780387310732)\n",
    "\n",
    "Written by Christopher Bishop, this classic technical text covers the concepts of machine learning discussed in this chapter in detail. If you plan to go further in this subject, you should have this book on your shelf."
   ]
  },
  {
   "cell_type": "markdown",
   "metadata": {},
   "source": [
    "#### Machine Learning: A Probabilistic Perspective (http://mitpress.mit.edu/books/machine-learning-0)\n",
    "\n",
    "Written by Kevin Murphy, this is an excellent graduate-level text that explores nearly all important machine learning algorithms from a ground-up, unified probabilistic perspective."
   ]
  },
  {
   "cell_type": "markdown",
   "metadata": {},
   "source": [
    "These resources are more technical than the material presented in this book, but to really understand the fundamentals of these methods requires a deep dive into the mathematics behind them. If you're us for the challenge and ready to bring your data science to the next level, don't hesitate to dive in!"
   ]
  }
 ],
 "metadata": {
  "kernelspec": {
   "display_name": "Python 3",
   "language": "python",
   "name": "python3"
  },
  "language_info": {
   "codemirror_mode": {
    "name": "ipython",
    "version": 3
   },
   "file_extension": ".py",
   "mimetype": "text/x-python",
   "name": "python",
   "nbconvert_exporter": "python",
   "pygments_lexer": "ipython3",
   "version": "3.7.3"
  }
 },
 "nbformat": 4,
 "nbformat_minor": 4
}
