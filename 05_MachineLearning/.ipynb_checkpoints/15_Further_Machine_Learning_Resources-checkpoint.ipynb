{
 "cells": [
  {
   "cell_type": "markdown",
   "metadata": {},
   "source": [
    "# Further Machine Learning Resources"
   ]
  },
  {
   "cell_type": "markdown",
   "metadata": {},
   "source": [
    "This chapter has been a quick tour of machine learning in python, primarily using the tools within the Scikit-Learn library. As long as the chapter is, it is still too short to cover many interating and important algorithms, approaches, and discussions. Here I want to suggest some resources for those who would like to learn more about machine learning."
   ]
  },
  {
   "cell_type": "markdown",
   "metadata": {},
   "source": [
    "## Machine Learning in Python"
   ]
  },
  {
   "cell_type": "markdown",
   "metadata": {},
   "source": [
    "To learn more about machine learning in Python, I'd suggest some of the following resources:"
   ]
  },
  {
   "cell_type": "markdown",
   "metadata": {},
   "source": [
    "#### The Scikit-Learn website (http://scikit-learn.org)\n",
    "\n",
    "The Scikit-Learn website has an impressive breadth of documentation and examples covering some of the models discussed here, and much, much, much more. If you want a brief survey of the most important and often used machine learning algorithms, this website is a good place to start."
   ]
  },
  {
   "cell_type": "markdown",
   "metadata": {},
   "source": [
    "#### SciPy, PyCon, and PyData tutorial videos\n",
    "\n",
    "Scikit-Learn and other machine learning topics are perennial favorites in the tutorial tracks of many Python-focused conferences series, in particular the PyCon, SciPy, and PyData conferences. You can find the most recent ones via a simple web search."
   ]
  },
  {
   "cell_type": "markdown",
   "metadata": {},
   "source": [
    "#### Introduction to Machine Learning with Python (http://bit.ly/intro-machine-learning-python)\n",
    "\n",
    "Written by Andreas C. Mueller and Sarah Guido, this book includes a fuler treatment of the topics in this chapter. If you're "
   ]
  },
  {
   "cell_type": "markdown",
   "metadata": {},
   "source": [
    "## General Machine Learning"
   ]
  }
 ],
 "metadata": {
  "kernelspec": {
   "display_name": "Python 3",
   "language": "python",
   "name": "python3"
  },
  "language_info": {
   "codemirror_mode": {
    "name": "ipython",
    "version": 3
   },
   "file_extension": ".py",
   "mimetype": "text/x-python",
   "name": "python",
   "nbconvert_exporter": "python",
   "pygments_lexer": "ipython3",
   "version": "3.7.3"
  }
 },
 "nbformat": 4,
 "nbformat_minor": 4
}
